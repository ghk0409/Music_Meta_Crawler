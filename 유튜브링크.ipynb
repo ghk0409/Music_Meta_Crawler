{
 "cells": [
  {
   "cell_type": "code",
   "execution_count": 241,
   "id": "3402e1d2",
   "metadata": {},
   "outputs": [],
   "source": [
    "import requests\n",
    "from bs4 import BeautifulSoup\n",
    "from Module.selenium_driver import webdriver_control\n",
    "import sys\n",
    "from difflib import SequenceMatcher\n",
    "from config import config\n",
    "import pymysql\n",
    "import pandas as pd\n",
    "from Module.utility import result2csv\n",
    "import datetime as dt"
   ]
  },
  {
   "cell_type": "code",
   "execution_count": 230,
   "id": "6c29d3d9",
   "metadata": {},
   "outputs": [],
   "source": [
    "# DB 연동\n",
    "def connect_db_rds():\n",
    "    conn = pymysql.connect(\n",
    "        host = config.RDS_config['host']\n",
    "        , user = config.RDS_config['user']\n",
    "        , password = config.RDS_config['password']\n",
    "        , database = config.RDS_config['database']\n",
    "        , port = config.RDS_config['port']\n",
    "        , cursorclass=pymysql.cursors.DictCursor\n",
    "    )\n",
    "    return conn\n",
    "\n",
    "conn_rds = connect_db_rds()"
   ]
  },
  {
   "cell_type": "code",
   "execution_count": 233,
   "id": "97ebfacb",
   "metadata": {},
   "outputs": [],
   "source": [
    "cursor = conn_rds.cursor()\n",
    "sql = config.query['select_music_list']\n",
    "cursor.execute(sql)\n",
    "result = cursor.fetchall()\n",
    "df = pd.DataFrame(result)"
   ]
  },
  {
   "cell_type": "code",
   "execution_count": 177,
   "id": "0a96551e",
   "metadata": {},
   "outputs": [],
   "source": [
    "# 드라이버 경로\n",
    "DRIVER_PATH = 'D:/'\n",
    "\n",
    "# 운영체제별 드라이버 선택\n",
    "platform = sys.platform\n",
    "# 윈도우일 경우\n",
    "if platform == 'win32':\n",
    "    DRIVER_PATH += 'chromedriver.exe'\n",
    "# 리눅스일 경우\n",
    "elif platform == 'linux':\n",
    "    DRIVER_PATH += 'chromedriver_linux.exe'\n",
    "\n",
    "# Chrome Driver init\n",
    "chrome = webdriver_control.generate_chrome(driver_path=DRIVER_PATH)"
   ]
  },
  {
   "cell_type": "code",
   "execution_count": 178,
   "id": "69204e17",
   "metadata": {},
   "outputs": [],
   "source": [
    "chrome.get('https://www.youtube.com/results?search_query=bts+butter%EB%A7%8C')\n",
    "time.sleep(0.5)\n",
    "source = chrome.page_source\n",
    "soup = BeautifulSoup(source, 'html5lib')\n",
    "\n",
    "a = soup.findAll('a', id='video-title')\n",
    "span = soup.findAll('span', id='text')"
   ]
  },
  {
   "cell_type": "code",
   "execution_count": 242,
   "id": "f22e5758",
   "metadata": {},
   "outputs": [],
   "source": [
    "t = dt.datetime.now()\n",
    "save_time = t.strftime('%Y_%W')"
   ]
  },
  {
   "cell_type": "code",
   "execution_count": 224,
   "id": "da3116bc",
   "metadata": {
    "scrolled": true
   },
   "outputs": [],
   "source": [
    "for i in range(len(df)):\n",
    "    music_idx = df['music_idx'][i]\n",
    "    title = df['title'][i]\n",
    "    artist = df['name'][i]\n",
    "\n",
    "    result = {\n",
    "        'music_idx' : music_idx,\n",
    "        'title' : title,\n",
    "        'artist' : artist,\n",
    "        'yt_link1' : None,\n",
    "        'yt_link2' : None,\n",
    "    }\n",
    "    \n",
    "    result_link = []\n",
    "    for i in range(len(a)):\n",
    "        if '시간'  in span[i]['aria-label']:\n",
    "            continue\n",
    "        else:\n",
    "            play_time = int(span[i]['aria-label'].split('분 ')[0])*60 + int(span[i]['aria-label'].split('분 ')[1].replace('초', ''))\n",
    "\n",
    "            if (play_time <= 360) and (title.upper() in a[i]['title'].upper()):\n",
    "                href = a[i]['href']\n",
    "                url = f'https://www.youtube.com{href}'\n",
    "                result_link.append(url)\n",
    "        \n",
    "        if len(result_link) == 2:\n",
    "            break\n",
    "    \n",
    "    if len(result_link) == 2:\n",
    "        result['yt_link1'] = result_link[0]\n",
    "        result['yt_link2'] = result_link[1]\n",
    "    elif len(result_link) == 1:\n",
    "        result['yt_link1'] == result_link[0]\n",
    "    else:\n",
    "        continue\n",
    "    \n",
    "    df_result = pd.DataFrame(result)\n",
    "    result2csv(f'./csv/music_link_{save_time}.csv', df_result)"
   ]
  },
  {
   "cell_type": "code",
   "execution_count": 250,
   "id": "68181340",
   "metadata": {
    "scrolled": true
   },
   "outputs": [
    {
     "data": {
      "text/plain": [
       "['https://www.youtube.com/watch?v=DSEO6BAh3kw',\n",
       " 'https://www.youtube.com/watch?v=rZI_Nt2mPgA']"
      ]
     },
     "execution_count": 250,
     "metadata": {},
     "output_type": "execute_result"
    }
   ],
   "source": [
    "result_link"
   ]
  },
  {
   "cell_type": "code",
   "execution_count": null,
   "id": "232d0748",
   "metadata": {},
   "outputs": [],
   "source": []
  },
  {
   "cell_type": "code",
   "execution_count": null,
   "id": "612bf46e",
   "metadata": {},
   "outputs": [],
   "source": []
  },
  {
   "cell_type": "code",
   "execution_count": null,
   "id": "a58e3049",
   "metadata": {},
   "outputs": [],
   "source": []
  },
  {
   "cell_type": "code",
   "execution_count": null,
   "id": "927d52f9",
   "metadata": {},
   "outputs": [],
   "source": []
  }
 ],
 "metadata": {
  "kernelspec": {
   "display_name": "Python 3",
   "language": "python",
   "name": "python3"
  },
  "language_info": {
   "codemirror_mode": {
    "name": "ipython",
    "version": 3
   },
   "file_extension": ".py",
   "mimetype": "text/x-python",
   "name": "python",
   "nbconvert_exporter": "python",
   "pygments_lexer": "ipython3",
   "version": "3.8.8"
  }
 },
 "nbformat": 4,
 "nbformat_minor": 5
}
